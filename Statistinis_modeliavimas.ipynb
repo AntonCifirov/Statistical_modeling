{
  "nbformat": 4,
  "nbformat_minor": 0,
  "metadata": {
    "colab": {
      "provenance": []
    },
    "kernelspec": {
      "name": "python3",
      "display_name": "Python 3"
    },
    "language_info": {
      "name": "python"
    }
  },
  "cells": [
    {
      "cell_type": "markdown",
      "source": [
        "Statistinio modeliavimo pratybų uždavinių sprendimai.\n",
        "> Darbas paruoštas: Anton Cifirov DM 2\n",
        "\n",
        "Google colab'o platformoje kodo paleidimas vyksta blokais. Paspaudus mygtuką viršutinėje kairėje pusėje paleidžiamas vienas blokas. Kodo blokai išdėstyti pagal eilės tvarka, taigi jas paleidinėti irgi reikia vienas po kito.\n",
        "Paryškintas tekstas [(pavyzdys)]() - tai nuoroda į pdf failą kuriame rasite keleta grafiku atitinkamam uždaviniui."
      ],
      "metadata": {
        "id": "HOhaFFMcDU0Z"
      }
    },
    {
      "cell_type": "markdown",
      "source": [
        "![picture](https://drive.google.com/uc?export=view&id=1iKxc4kK4whjDiz90EEQcv-t_GovpdW3j)\n",
        "\n",
        "![picture](https://drive.google.com/uc?export=view&id=1Jn1-cbbQQP-p43XxyBkrlqZ-CSJY0VXf)\n"
      ],
      "metadata": {
        "id": "iqERpIyOF1N8"
      }
    },
    {
      "cell_type": "code",
      "execution_count": null,
      "metadata": {
        "id": "WpBFS9Xrx4jI"
      },
      "outputs": [],
      "source": [
        "#Importuojame naudojamos bibliotekos\n",
        "import scipy\n",
        "import math\n",
        "import numpy as np\n",
        "import csv\n",
        "\n",
        "#Apibrėžkime naudojamas funkcijas\n",
        "def get(lst:list, k:int)->list:\n",
        "    return \", \".join(str(x) for x in lst[:k])\n",
        "\n",
        "def random(X_0: int, a: int, c: int, m: int) -> list:               # atsitiktinių skaičių generavimas tiesiniu kongruentiniu metodu\n",
        "    ats_sk_seka = []                                                # sukuriame list tipo masyvą(dinamic array)\n",
        "    ats_sk_seka.append(X_0)\n",
        "    i = 0\n",
        "    while 1:\n",
        "        sk = (a * ats_sk_seka[i] + c) % m\n",
        "        if (sk in ats_sk_seka):\n",
        "            break\n",
        "        else:\n",
        "            ats_sk_seka.append(sk)\n",
        "        i += 1\n",
        "    return ats_sk_seka\n",
        "\n",
        "\n",
        "def is_prime(a: int) -> bool:                                  # patikrina ar a:int yra pirminis\n",
        "    answer = True\n",
        "    if a < 2:\n",
        "        answer = False\n",
        "    for i in range(2, math.floor(math.sqrt(a)+1)):\n",
        "        if (a % i == 0):\n",
        "            answer = False\n",
        "    return answer\n",
        "\n",
        "\n",
        "def pirminiai_dalikliai(a: int) -> list:                       # gražina saraša sudaryta iš skaičiaus a pirminių dalyklių\n",
        "\n",
        "    pirminiai_dalikliai_lst = []\n",
        "\n",
        "    if is_prime(a):\n",
        "        pirminiai_dalikliai_lst.append(a)\n",
        "        return pirminiai_dalikliai_lst\n",
        "\n",
        "    for i in range(1, (a // 2 + 1)):\n",
        "        if (a % i == 0 and is_prime(i)):\n",
        "            pirminiai_dalikliai_lst.append(i)\n",
        "    return pirminiai_dalikliai_lst\n",
        "\n",
        "def tarpusavyje_pirminiai(a: int, b: int) -> bool:              # tikrina ar a ir b ir tarpusavyje pirminiai\n",
        "    pda = set(pirminiai_dalikliai(a))\n",
        "    pdb = set(pirminiai_dalikliai(b))\n",
        "    ans = pda.isdisjoint(pdb)\n",
        "    return ans\n",
        "\n",
        "\n",
        "def surask_tarp_pirm(a: int) -> int:           # randa tarpusavyje pirminį skaicių\n",
        "    if a == 1:\n",
        "        return \"Nera tarpusavyje pirminio skaicio\"\n",
        "    tarpusavyje_pirminiai_lst = []\n",
        "    for i in range(1, a):\n",
        "        if tarpusavyje_pirminiai(i, a):\n",
        "            tarpusavyje_pirminiai_lst.append(i)\n",
        "    if tarpusavyje_pirminiai == []:\n",
        "        return False                           # jei gražiname False -> nera tarpusabyje_pirminiu skaiciu mazesniu uz a\n",
        "    else:\n",
        "        return tarpusavyje_pirminiai_lst\n",
        "\n",
        "\n",
        "def surask__a(m):\n",
        "    a_lst = []\n",
        "    for a in range(max(pirminiai_dalikliai(m)), m):\n",
        "        print\n",
        "        bl = True                              # nustatom boolean reiksmę True\n",
        "        if (m % 4 == 0 and (a - 1) % 4 != 0):  # tikrinama implikacija 4|m -> 4|(a-1), jinai klaidinga tik kai 4 dalija m bet 4 nedalija (a-1), tokių atvejų praleidžiame šita \"a\"\n",
        "            continue\n",
        "        for p in pirminiai_dalikliai(m):       # čia kiekvienas p iš pirminių m dalyklių aibės.\n",
        "            if ((a - 1) % p != 0):             # jeigu su kažkokiu p salygą pasidaro True,\n",
        "                bl = False                     # boolean pasikeicia į False\n",
        "                break\n",
        "        if bl:\n",
        "            a_lst.append(a)\n",
        "    return a_lst\n",
        "\n",
        "\n",
        "\n",
        "def surask_a(m:int) -> list:\n",
        "    a_lst = []\n",
        "    for a in range(max(pirminiai_dalikliai(m)),m):\n",
        "        flag = True                          # darome prielaidą jog muūsų a yra tinkamas, ir tirkrinam salygas\n",
        "        for p in pirminiai_dalikliai(m):\n",
        "            if ((a-1) % p != 0):\n",
        "                flag = False\n",
        "                continue\n",
        "        if (m%4 == 0 and (a-1)%4 != 0):\n",
        "            flag = False\n",
        "        if flag:\n",
        "            a_lst.append(a)\n",
        "    if a_lst == []:\n",
        "        return False\n",
        "    else:\n",
        "        return a_lst\n",
        "\n",
        "def galingumas(a:int, m:int) -> int:    #į funkciją paduodamas daugiklis a ir modulis m, gražina a galingumą\n",
        "    for s in range(m):\n",
        "        if ((a-1) ** s) % m == 0:\n",
        "            break\n",
        "    return s\n",
        "\n",
        "def parink_a(a_lst:list, m:int) -> int:\n",
        "    gal = 0\n",
        "    for a in a_lst:\n",
        "        if (galingumas(a, m)) > gal:\n",
        "            gal = galingumas(a, m)\n",
        "            daugiklis = a\n",
        "    return daugiklis\n",
        "\n",
        "\n",
        "def parink_c(c_lst:list, m:int) -> int:\n",
        "    const1 = m*(1/2 + 1/6*math.sqrt(3))\n",
        "    const2 = m*(1/2 - 1/6*math.sqrt(3))\n",
        "\n",
        "    diff = 2**64                     # diff - \"skirtumas\" iš pradžių priskiriam bet koki didelį skaičių\n",
        "    for c in c_lst:\n",
        "        if min(abs(c-const1), abs(c-const2))<diff:\n",
        "            diff = min(abs(c-const1), abs(c-const2))\n",
        "            poslinkis = c\n",
        "    return poslinkis\n",
        "\n",
        "def remove_trailing_zeros(lst):    #funkciją panaikina visus nulius iš masyvo lst galo\n",
        "    i = len(lst) - 1\n",
        "    while i >= 0 and lst[i] == 0:\n",
        "        lst.pop()\n",
        "        i -= 1\n",
        "    return lst\n",
        "\n",
        "\n",
        "def monot_testas(seka:list, alpha:float):\n",
        "    # naudojant list comprehention normalizuojame atsitiktine seką į intervalą [0,1]\n",
        "    # jeigu tas elementas mžesnis už 1/2 keičiame jį į 0, jei didesnis tai į 1\n",
        "\n",
        "    seka = [0 if element/(len(seka))<1/2 else 1 for element in seka]\n",
        "    K =[0 for i in range(len(seka))]     # šitas masyvas saugos kiek buvo rasta k ilgio intervalų,\n",
        "                                         # kur k elemento indeksas, o K[k] kiek tokių ilgio intervalų buvo rasta\n",
        "    #Skaiciuojame sekų iš nuliukų ir vienetukų ilgius\n",
        "    count = 1\n",
        "    for i in range (1, len(seka)):\n",
        "        if seka[i-1] == seka[i]:\n",
        "            count += 1\n",
        "            if i == len(seka)-1:\n",
        "                K[count-1] += 1\n",
        "        else:\n",
        "            K[count-1] += 1\n",
        "            count = 1\n",
        "            if i == len(seka)-1:\n",
        "                K[0] += 1\n",
        "\n",
        "    #teoriniai vidurkiai\n",
        "    #n = len(seka) -1 dėl to kad konspekte nurodyta seka prasideda nuo 0 o n yra paskutinio elemento indeksas\n",
        "    K_teoriniai = [((len(seka)-1) - k + 4)/(2**(k+1)) for k in range(1, len(K)+1)]\n",
        "    chi2_emp = sum(map(lambda emp,teor : ((emp-teor)**2)/teor, K, K_teoriniai))\n",
        "    chi2_teor = scipy.stats.chi2.ppf(1-alpha, len(K_teoriniai)-1)   # naudojant scipy biblioteka randame kritine reiksme\n",
        "    print(f\"Empiriniai ilgio kiekiai: {get(K,10)}...\\n\\\n",
        "Teoriniai ilgio kiekiai: {get(K_teoriniai,10)}...\\n\\\n",
        "Chi kvadrat: {chi2_emp}\\n\\\n",
        "Kritinė reikšmė: {chi2_teor}\")\n",
        "    print(f\"Gauta chi kvadrat kriterijaus reikšmė mažesnė už kritinę: {chi2_emp} < {chi2_teor}\" if chi2_emp < chi2_teor\n",
        "          else f\"Gauta chi kvadrat kriterijaus reikšmė nemažesnė už kritinę: {chi2_emp} >= {chi2_teor}\" )\n",
        "\n",
        "\n",
        "def maks_testas(seka:list, alpha:float, k:int):  # Maksimumo testas (didžiausias iš k)\n",
        "    #V seka : seka maximumu dalijant pradine seka į k ilgio intervalus\n",
        "    #V sekos sukurimas\n",
        "    seka = [element/len(seka) for element in seka]  #normalizuojame\n",
        "    V = [max( [seka[j*k+i] for i in range(0,k)] ) for j in range(0,(len(seka)//k))]\n",
        "\n",
        "    #rušiuojame didėjimo tvarka\n",
        "    V.sort()\n",
        "\n",
        "    #teorine pasiskirstymo funkcija\n",
        "    PF_teor = lambda x: x**k\n",
        "\n",
        "    #empirine pasiskirstymo funkcija\n",
        "    PF_emp = lambda x: sum([1 if V[i] <= x else 0 for i in range(0,len(V))])/len(V)\n",
        "    n = len(V)\n",
        "    D_plus = max([i/n - PF_teor(V[i-1])] for i in range(1,n+1))        #indeksuojame V[i-1] o ne V[i] nes V[i-1] yra i-tasis elementas, o V[i] yra i+1 elementas\n",
        "    D_minus = max([PF_teor(V[i-1])-(i-1)/n] for i in range(1,n+1))\n",
        "    D = max(D_plus, D_minus)[0]\n",
        "\n",
        "    KS_kritine_reiksme = scipy.stats.ksone.ppf(1-alpha/2, n)\n",
        "\n",
        "    print(f\"D = {D}\\nKolmogorovo-Smirnovo kriterijaus kritinė reikšmė = {KS_kritine_reiksme}\")\n",
        "    print(f\"Gauta Kolmogorovo-Smirnovo kriterijaus reikšmė mažesnė uz kritinę: {D} <= {KS_kritine_reiksme}\" if D <= KS_kritine_reiksme\n",
        "          else f\"Gauta Kolmogorovo-Smirnovo kriterijaus reikšmė nemažesnė uz kritinę: {D} > {KS_kritine_reiksme}\" )\n",
        "\n",
        "def normal(seka:list, mu=1,sigma = 3):\n",
        "    c0 = 2.515517\n",
        "    c1 = 0.802853\n",
        "    c2 = 0.010328\n",
        "    d1 = 1.432788\n",
        "    d2 = 0.189269\n",
        "    d3 = 0.001308\n",
        "\n",
        "    seka = [(element+1)/(len(seka)+1) for element in seka]\n",
        "\n",
        "\n",
        "    sign = lambda u: (u > 0) - (u < 0)\n",
        "    t = lambda u: math.sqrt(-2*(math.log(min(u, 1-u))))\n",
        "    H = lambda u: sign(u-1/2)*(t(u) - (c0 + c1 * t(u) + c2* (t(u))**2)/(1 + d1*t(u) + d2*(t(u)**2) + d3*(t(u)**3)))\n",
        "    normal_list = [mu + math.sqrt(sigma)*H(u) for u in seka]\n",
        "    return normal_list\n",
        "\n",
        "\n",
        "def eksp(seka: list, beta: float):\n",
        "    #atvirkštine\n",
        "    # -Beta*ln(u)\n",
        "    seka = [(element+1)/(len(seka)+1) for element in seka]\n",
        "    eksp_list = [-beta*math.log(1-u) for u in seka]\n",
        "    return eksp_list\n",
        "\n",
        "\n",
        "'''\n",
        "def integralas(seka:list):\n",
        "    g = lambda x: x**2 * math.exp(x)  # sukuriame pointegraline funkcija g(x)\n",
        "    KSI = [(4*u+1)/(len(seka)) for u in seka]  # konvertuojame gauta ats seka i unif(0,4)\n",
        "    I_1 = (4/len(KSI))*sum([g(ksi) for ksi in KSI])\n",
        "\n",
        "    KSI = [(4096*((u+1)/(len(seka))))**(1/6) for u in seka]\n",
        "    I_2 = (2048/(3*len(KSI))) * sum([g(ksi)/(ksi**5) for ksi in KSI])\n",
        "\n",
        "    I_su_pitonu, error = scipy.integrate.quad(g, 0, 4)\n",
        "\n",
        "    print(f\"Integralas suskaiciuotas: \\nMonte Karlo metodu 1: {I_1}\\nMonte Karlo metodu 2: {I_2}\\nNaudojant python'o scipy.integrate funkcija: {I_su_pitonu}\")\n",
        "    '''\n",
        "\n",
        "def integralas_tolygus(g,apat_r:float, virs_r:float,seka:list)->list:\n",
        "    #g - integruojama funkcija\n",
        "    #virs_r - viršutinis integralo rėžis\n",
        "    #apat_r - apatinis integralo rėžis\n",
        "\n",
        "    diff = virs_r - apat_r\n",
        "    KSI = [(diff*u+1)/(len(seka))+apat_r for u in seka]  # konvertuojame gauta ats. seka i unif(apat_r, virs_r)\n",
        "    I= diff/len(KSI) * sum([g(ksi) for ksi in KSI])\n",
        "    I_su_pitonu, error = scipy.integrate.quad(g, apat_r, virs_r)\n",
        "    return I, I_su_pitonu\n",
        "\n",
        "def integralas_su_laipsniuotu_tankiu(g, apat_r, virs_r, seka,laipsnis):\n",
        "    #g - integruojama funkcija\n",
        "    #virs_r - viršutinis integralo rėžis\n",
        "    #apat_r - apatinis integralo rėžis\n",
        "    #daugiklis -  funkcijos c*x^b - normalizuojanti konstanta c\n",
        "    #laipsnis - funkcijos c*x^b - ikso laipsnis\n",
        "   # daugiklis = (laipsnis +1)/(virs_r**(laipsnis+1))-(laipsnis +1)/(apat_r**(laipsnis+1))\n",
        "    daugiklis = 1/((virs_r**(laipsnis+1))/(laipsnis +1)-(apat_r**(laipsnis+1))/(laipsnis +1))\n",
        "    tankis = lambda x: daugiklis*(x**laipsnis)\n",
        "    #pritaikom laipsniuotu f-jų integravimo taisykle\n",
        "    laipsnis_new = (laipsnis+1)\n",
        "    daugiklis_new = (daugiklis/(laipsnis+1))\n",
        "    #pas_funkcija = daugiklis_new*(x**laipsnis_new)\n",
        "    pas_atvirkstine = lambda x:((1/daugiklis_new)*x)**(1/laipsnis_new)\n",
        "    seka = [(u+1)/len(seka) for u in seka] #normalizuojame seką į intervalą (0,1)\n",
        "    KSI = [pas_atvirkstine(u) for u in seka]\n",
        "    I= 1/len(KSI) * sum([g(ksi)/tankis(ksi) for ksi in KSI])\n",
        "    I_su_pitonu, error = scipy.integrate.quad(g, apat_r, virs_r)\n",
        "    return I, I_su_pitonu\n",
        "\n",
        "\n",
        "\n",
        "\n",
        "\n",
        "def iniciavimas(skirstinys:list, u:int):\n",
        "\n",
        "    if u < skirstinys[0]:\n",
        "        state = 1\n",
        "    elif u >= skirstinys[0] and u < sum(skirstinys[:2]):\n",
        "        state = 2\n",
        "    elif u >= sum(skirstinys[:2]) and u < sum(skirstinys[:3]):\n",
        "        state = 3\n",
        "    else:\n",
        "        state = 4\n",
        "    return state\n",
        "\n",
        "def normalizuojame(seka):\n",
        "    seka = [element/((len(seka)-1)) for element in seka]\n",
        "    return seka\n",
        "\n",
        "def generuojam_MG(pi:list, P:list, seka:list) -> list:\n",
        "    U = normalizuojame(seka)\n",
        "    #pi - pradinis skirstinys\n",
        "    #P - perejimo matrica (dvimatis listas)\n",
        "    #U - musu sugeneruota atsitiktine seka\n",
        "\n",
        "    #Iniciuojanti funkcija\n",
        "    state:int\n",
        "    state_list = []\n",
        "    state_list.append(iniciavimas(skirstinys = pi, u = U[0]))\n",
        "    #Atnaujinimo funkcija\n",
        "    for i in range(1,len(U)):\n",
        "        state_list.append(iniciavimas(skirstinys = P[state_list[i-1]-1], u = U[i]))\n",
        "    return state_list\n",
        "\n",
        "\n"
      ]
    },
    {
      "cell_type": "code",
      "source": [
        "#1 užd--------------------------------------------------------------------------\n",
        "\n",
        "m1 = 832\n",
        "m2 = 873\n",
        "\n",
        "# pasirenkame optimailus a ir c\n",
        "\n",
        "# pirma salyga: c ir m tarpusavyje pirminiai\n",
        "# išsaugojame masyve visas galimas c reikšmes\n",
        "c1_lst = surask_tarp_pirm(m1)\n",
        "c2_lst = surask_tarp_pirm(m2)\n",
        "\n",
        "# tikriname 2 ir 3 salygos jei p|m tai butinai p|(a-1), jei 4|m  tai buitinai 4|(a-1), kur p - pirminis m dalyklis,\n",
        "#  išsaugojam masyve visas galimas a reikšmes\n",
        "\n",
        "a1_lst = surask_a(m1)\n",
        "a2_lst = surask_a(m2)\n",
        "\n",
        "# c parinkame kuo arčiau reikšmės  m*(1/2 +- 1/6*sqrt(3))\n",
        "c1 = parink_c(c1_lst, m1)\n",
        "c2 = parink_c(c2_lst, m2)\n",
        "\n",
        "#Parenkame a pagal galingumą s, kur s - mažiausias skaičius toks kad: (a-1)^s = 0 mod m\n",
        "a1 = parink_a(a1_lst, m1)\n",
        "a2 = parink_a(a2_lst, m2)\n",
        "\n",
        "# # Pasirenkame nulinius sekos skaičius X_0 (generuosim su m1) ir Y_0 (generuosim su m2), kadangi a,c\n",
        "# # tokie kad periodas lygus m, nesvarbu kokius pirmus narius paimsime\n",
        "\n",
        "X_0, Y_0 = 0, 0\n",
        "seka_X = random(X_0, a1, c1, m1)      #generuojame sekas\n",
        "seka_Y = random(Y_0, a2, c2, m2)\n",
        "\n",
        "with open(\"uniform_x.csv\",\"w\") as file:      #isirašome sekas į csv failus vizualizavimui su Rstudio\n",
        "    csv.writer(file).writerow(seka_X)\n",
        "with open(\"uniform_y.csv\",\"w\") as file:\n",
        "    csv.writer(file).writerow(seka_Y)\n",
        "\n",
        "print(f'Sugeneruota seka X_n+1 = {a1}*Xn + {c1} mod {m1}: \\n{seka_X}\\nPeriodas: {len(seka_X)}\\n')\n",
        "print(f'Sugeneruota seka Y_n+1 = {a2}*Yn + {c2} mod {m2}: \\n{seka_Y}\\nPeriodas: {len(seka_Y)}\\n ')\n"
      ],
      "metadata": {
        "colab": {
          "base_uri": "https://localhost:8080/"
        },
        "id": "eSZtZN3B2l4A",
        "outputId": "6bac3a1b-3e29-430a-e8fb-a28e06df23ed"
      },
      "execution_count": null,
      "outputs": [
        {
          "output_type": "stream",
          "name": "stdout",
          "text": [
            "Sugeneruota seka X_n+1 = 53*Xn + 175 mod 832: \n",
            "[0, 175, 298, 161, 388, 771, 270, 341, 776, 535, 242, 521, 332, 299, 214, 701, 720, 63, 186, 49, 276, 659, 158, 229, 664, 423, 130, 409, 220, 187, 102, 589, 608, 783, 74, 769, 164, 547, 46, 117, 552, 311, 18, 297, 108, 75, 822, 477, 496, 671, 794, 657, 52, 435, 766, 5, 440, 199, 738, 185, 828, 795, 710, 365, 384, 559, 682, 545, 772, 323, 654, 725, 328, 87, 626, 73, 716, 683, 598, 253, 272, 447, 570, 433, 660, 211, 542, 613, 216, 807, 514, 793, 604, 571, 486, 141, 160, 335, 458, 321, 548, 99, 430, 501, 104, 695, 402, 681, 492, 459, 374, 29, 48, 223, 346, 209, 436, 819, 318, 389, 824, 583, 290, 569, 380, 347, 262, 749, 768, 111, 234, 97, 324, 707, 206, 277, 712, 471, 178, 457, 268, 235, 150, 637, 656, 831, 122, 817, 212, 595, 94, 165, 600, 359, 66, 345, 156, 123, 38, 525, 544, 719, 10, 705, 100, 483, 814, 53, 488, 247, 786, 233, 44, 11, 758, 413, 432, 607, 730, 593, 820, 371, 702, 773, 376, 135, 674, 121, 764, 731, 646, 301, 320, 495, 618, 481, 708, 259, 590, 661, 264, 23, 562, 9, 652, 619, 534, 189, 208, 383, 506, 369, 596, 147, 478, 549, 152, 743, 450, 729, 540, 507, 422, 77, 96, 271, 394, 257, 484, 35, 366, 437, 40, 631, 338, 617, 428, 395, 310, 797, 816, 159, 282, 145, 372, 755, 254, 325, 760, 519, 226, 505, 316, 283, 198, 685, 704, 47, 170, 33, 260, 643, 142, 213, 648, 407, 114, 393, 204, 171, 86, 573, 592, 767, 58, 753, 148, 531, 30, 101, 536, 295, 2, 281, 92, 59, 806, 461, 480, 655, 778, 641, 36, 419, 750, 821, 424, 183, 722, 169, 812, 779, 694, 349, 368, 543, 666, 529, 756, 307, 638, 709, 312, 71, 610, 57, 700, 667, 582, 237, 256, 431, 554, 417, 644, 195, 526, 597, 200, 791, 498, 777, 588, 555, 470, 125, 144, 319, 442, 305, 532, 83, 414, 485, 88, 679, 386, 665, 476, 443, 358, 13, 32, 207, 330, 193, 420, 803, 302, 373, 808, 567, 274, 553, 364, 331, 246, 733, 752, 95, 218, 81, 308, 691, 190, 261, 696, 455, 162, 441, 252, 219, 134, 621, 640, 815, 106, 801, 196, 579, 78, 149, 584, 343, 50, 329, 140, 107, 22, 509, 528, 703, 826, 689, 84, 467, 798, 37, 472, 231, 770, 217, 28, 827, 742, 397, 416, 591, 714, 577, 804, 355, 686, 757, 360, 119, 658, 105, 748, 715, 630, 285, 304, 479, 602, 465, 692, 243, 574, 645, 248, 7, 546, 825, 636, 603, 518, 173, 192, 367, 490, 353, 580, 131, 462, 533, 136, 727, 434, 713, 524, 491, 406, 61, 80, 255, 378, 241, 468, 19, 350, 421, 24, 615, 322, 601, 412, 379, 294, 781, 800, 143, 266, 129, 356, 739, 238, 309, 744, 503, 210, 489, 300, 267, 182, 669, 688, 31, 154, 17, 244, 627, 126, 197, 632, 391, 98, 377, 188, 155, 70, 557, 576, 751, 42, 737, 132, 515, 14, 85, 520, 279, 818, 265, 76, 43, 790, 445, 464, 639, 762, 625, 20, 403, 734, 805, 408, 167, 706, 153, 796, 763, 678, 333, 352, 527, 650, 513, 740, 291, 622, 693, 296, 55, 594, 41, 684, 651, 566, 221, 240, 415, 538, 401, 628, 179, 510, 581, 184, 775, 482, 761, 572, 539, 454, 109, 128, 303, 426, 289, 516, 67, 398, 469, 72, 663, 370, 649, 460, 427, 342, 829, 16, 191, 314, 177, 404, 787, 286, 357, 792, 551, 258, 537, 348, 315, 230, 717, 736, 79, 202, 65, 292, 675, 174, 245, 680, 439, 146, 425, 236, 203, 118, 605, 624, 799, 90, 785, 180, 563, 62, 133, 568, 327, 34, 313, 124, 91, 6, 493, 512, 687, 810, 673, 68, 451, 782, 21, 456, 215, 754, 201, 12, 811, 726, 381, 400, 575, 698, 561, 788, 339, 670, 741, 344, 103, 642, 89, 732, 699, 614, 269, 288, 463, 586, 449, 676, 227, 558, 629, 232, 823, 530, 809, 620, 587, 502, 157, 176, 351, 474, 337, 564, 115, 446, 517, 120, 711, 418, 697, 508, 475, 390, 45, 64, 239, 362, 225, 452, 3, 334, 405, 8, 599, 306, 585, 396, 363, 278, 765, 784, 127, 250, 113, 340, 723, 222, 293, 728, 487, 194, 473, 284, 251, 166, 653, 672, 15, 138, 1, 228, 611, 110, 181, 616, 375, 82, 361, 172, 139, 54, 541, 560, 735, 26, 721, 116, 499, 830, 69, 504, 263, 802, 249, 60, 27, 774, 429, 448, 623, 746, 609, 4, 387, 718, 789, 392, 151, 690, 137, 780, 747, 662, 317, 336, 511, 634, 497, 724, 275, 606, 677, 280, 39, 578, 25, 668, 635, 550, 205, 224, 399, 522, 385, 612, 163, 494, 565, 168, 759, 466, 745, 556, 523, 438, 93, 112, 287, 410, 273, 500, 51, 382, 453, 56, 647, 354, 633, 444, 411, 326, 813]\n",
            "Periodas: 832\n",
            "\n",
            "Sugeneruota seka Y_n+1 = 292*Yn + 184 mod 873: \n",
            "[0, 184, 659, 552, 736, 338, 231, 415, 17, 783, 94, 569, 462, 646, 248, 141, 325, 800, 693, 4, 479, 372, 556, 158, 51, 235, 710, 603, 787, 389, 282, 466, 68, 834, 145, 620, 513, 697, 299, 192, 376, 851, 744, 55, 530, 423, 607, 209, 102, 286, 761, 654, 838, 440, 333, 517, 119, 12, 196, 671, 564, 748, 350, 243, 427, 29, 795, 106, 581, 474, 658, 260, 153, 337, 812, 705, 16, 491, 384, 568, 170, 63, 247, 722, 615, 799, 401, 294, 478, 80, 846, 157, 632, 525, 709, 311, 204, 388, 863, 756, 67, 542, 435, 619, 221, 114, 298, 773, 666, 850, 452, 345, 529, 131, 24, 208, 683, 576, 760, 362, 255, 439, 41, 807, 118, 593, 486, 670, 272, 165, 349, 824, 717, 28, 503, 396, 580, 182, 75, 259, 734, 627, 811, 413, 306, 490, 92, 858, 169, 644, 537, 721, 323, 216, 400, 2, 768, 79, 554, 447, 631, 233, 126, 310, 785, 678, 862, 464, 357, 541, 143, 36, 220, 695, 588, 772, 374, 267, 451, 53, 819, 130, 605, 498, 682, 284, 177, 361, 836, 729, 40, 515, 408, 592, 194, 87, 271, 746, 639, 823, 425, 318, 502, 104, 870, 181, 656, 549, 733, 335, 228, 412, 14, 780, 91, 566, 459, 643, 245, 138, 322, 797, 690, 1, 476, 369, 553, 155, 48, 232, 707, 600, 784, 386, 279, 463, 65, 831, 142, 617, 510, 694, 296, 189, 373, 848, 741, 52, 527, 420, 604, 206, 99, 283, 758, 651, 835, 437, 330, 514, 116, 9, 193, 668, 561, 745, 347, 240, 424, 26, 792, 103, 578, 471, 655, 257, 150, 334, 809, 702, 13, 488, 381, 565, 167, 60, 244, 719, 612, 796, 398, 291, 475, 77, 843, 154, 629, 522, 706, 308, 201, 385, 860, 753, 64, 539, 432, 616, 218, 111, 295, 770, 663, 847, 449, 342, 526, 128, 21, 205, 680, 573, 757, 359, 252, 436, 38, 804, 115, 590, 483, 667, 269, 162, 346, 821, 714, 25, 500, 393, 577, 179, 72, 256, 731, 624, 808, 410, 303, 487, 89, 855, 166, 641, 534, 718, 320, 213, 397, 872, 765, 76, 551, 444, 628, 230, 123, 307, 782, 675, 859, 461, 354, 538, 140, 33, 217, 692, 585, 769, 371, 264, 448, 50, 816, 127, 602, 495, 679, 281, 174, 358, 833, 726, 37, 512, 405, 589, 191, 84, 268, 743, 636, 820, 422, 315, 499, 101, 867, 178, 653, 546, 730, 332, 225, 409, 11, 777, 88, 563, 456, 640, 242, 135, 319, 794, 687, 871, 473, 366, 550, 152, 45, 229, 704, 597, 781, 383, 276, 460, 62, 828, 139, 614, 507, 691, 293, 186, 370, 845, 738, 49, 524, 417, 601, 203, 96, 280, 755, 648, 832, 434, 327, 511, 113, 6, 190, 665, 558, 742, 344, 237, 421, 23, 789, 100, 575, 468, 652, 254, 147, 331, 806, 699, 10, 485, 378, 562, 164, 57, 241, 716, 609, 793, 395, 288, 472, 74, 840, 151, 626, 519, 703, 305, 198, 382, 857, 750, 61, 536, 429, 613, 215, 108, 292, 767, 660, 844, 446, 339, 523, 125, 18, 202, 677, 570, 754, 356, 249, 433, 35, 801, 112, 587, 480, 664, 266, 159, 343, 818, 711, 22, 497, 390, 574, 176, 69, 253, 728, 621, 805, 407, 300, 484, 86, 852, 163, 638, 531, 715, 317, 210, 394, 869, 762, 73, 548, 441, 625, 227, 120, 304, 779, 672, 856, 458, 351, 535, 137, 30, 214, 689, 582, 766, 368, 261, 445, 47, 813, 124, 599, 492, 676, 278, 171, 355, 830, 723, 34, 509, 402, 586, 188, 81, 265, 740, 633, 817, 419, 312, 496, 98, 864, 175, 650, 543, 727, 329, 222, 406, 8, 774, 85, 560, 453, 637, 239, 132, 316, 791, 684, 868, 470, 363, 547, 149, 42, 226, 701, 594, 778, 380, 273, 457, 59, 825, 136, 611, 504, 688, 290, 183, 367, 842, 735, 46, 521, 414, 598, 200, 93, 277, 752, 645, 829, 431, 324, 508, 110, 3, 187, 662, 555, 739, 341, 234, 418, 20, 786, 97, 572, 465, 649, 251, 144, 328, 803, 696, 7, 482, 375, 559, 161, 54, 238, 713, 606, 790, 392, 285, 469, 71, 837, 148, 623, 516, 700, 302, 195, 379, 854, 747, 58, 533, 426, 610, 212, 105, 289, 764, 657, 841, 443, 336, 520, 122, 15, 199, 674, 567, 751, 353, 246, 430, 32, 798, 109, 584, 477, 661, 263, 156, 340, 815, 708, 19, 494, 387, 571, 173, 66, 250, 725, 618, 802, 404, 297, 481, 83, 849, 160, 635, 528, 712, 314, 207, 391, 866, 759, 70, 545, 438, 622, 224, 117, 301, 776, 669, 853, 455, 348, 532, 134, 27, 211, 686, 579, 763, 365, 258, 442, 44, 810, 121, 596, 489, 673, 275, 168, 352, 827, 720, 31, 506, 399, 583, 185, 78, 262, 737, 630, 814, 416, 309, 493, 95, 861, 172, 647, 540, 724, 326, 219, 403, 5, 771, 82, 557, 450, 634, 236, 129, 313, 788, 681, 865, 467, 360, 544, 146, 39, 223, 698, 591, 775, 377, 270, 454, 56, 822, 133, 608, 501, 685, 287, 180, 364, 839, 732, 43, 518, 411, 595, 197, 90, 274, 749, 642, 826, 428, 321, 505, 107]\n",
            "Periodas: 873\n",
            " \n"
          ]
        }
      ]
    },
    {
      "cell_type": "markdown",
      "source": [
        "Fomuluojame hipotėzes statistinėms testams:\n",
        "\n",
        "> H<sub>0</sub>: Seka pasižymi atsitiktinės sekos savybėmis\n",
        "\n",
        "> H<sub>1</sub>: Seka nepasižymi atsitiktinės sekos savybėmis\n",
        "\n",
        "Pasirenkame &alpha; = 0.05"
      ],
      "metadata": {
        "id": "fELvlo8vp426"
      }
    },
    {
      "cell_type": "code",
      "source": [
        "# 2 užd ------------------------------------------------------------------------------------------------------------\n",
        "\n",
        "#Patikrinti seka ketvirtuoju monotoniškumo testu\n",
        "\n",
        "print(\"\\nPirmos sekos monotoniškumo testas:\")\n",
        "monot_testas(seka_X,alpha = 0.05)\n",
        "print(\"\\nAntros sekos monotoniškumo testas:\")\n",
        "monot_testas(seka_Y, alpha = 0.05)\n",
        "\n",
        "print(\"\\n\")\n"
      ],
      "metadata": {
        "colab": {
          "base_uri": "https://localhost:8080/"
        },
        "id": "o4lp6so0piCD",
        "outputId": "09fe4f43-0c92-4e62-cd39-a7f5c0dc5400"
      },
      "execution_count": null,
      "outputs": [
        {
          "output_type": "stream",
          "name": "stdout",
          "text": [
            "\n",
            "Pirmos sekos monotoniškumo testas:\n",
            "Empiriniai ilgio kiekiai: 208, 104, 46, 22, 14, 20, 0, 0, 0, 0...\n",
            "Teoriniai ilgio kiekiai: 208.5, 104.125, 52.0, 25.96875, 12.96875, 6.4765625, 3.234375, 1.615234375, 0.806640625, 0.40283203125...\n",
            "Chi kvadrat: 36.080853627100865\n",
            "Kritinė reikšmė: 899.1744230597407\n",
            "Gauta chi kvadrat kriterijaus reikšmė mažesnė už kritinę: 36.080853627100865 < 899.1744230597407\n",
            "\n",
            "Antros sekos monotoniškumo testas:\n",
            "Empiriniai ilgio kiekiai: 239, 52, 142, 26, 0, 0, 0, 0, 0, 0...\n",
            "Teoriniai ilgio kiekiai: 218.75, 109.25, 54.5625, 27.25, 13.609375, 6.796875, 3.39453125, 1.6953125, 0.8466796875, 0.4228515625...\n",
            "Chi kvadrat: 199.2403294667927\n",
            "Kritinė reikšmė: 941.8092009515985\n",
            "Gauta chi kvadrat kriterijaus reikšmė mažesnė už kritinę: 199.2403294667927 < 941.8092009515985\n",
            "\n",
            "\n"
          ]
        }
      ]
    },
    {
      "cell_type": "markdown",
      "source": [
        "Kadangi ir pirmos ir antros sekos &chi;² kriterijaus reikšmės buvo mažesnės už &chi;² kritinės reikšmės,\n",
        "su tikimybė 0.95 galime teigti kad sekos pasižymi atsitiktinės sekos savybėmis, bet pirmos sekos gautas &chi;² kriterijus yra žymiai mažesnis už antros."
      ],
      "metadata": {
        "id": "g4wWkee3r-kK"
      }
    },
    {
      "cell_type": "code",
      "source": [
        "#Patikrinti seka maksimumo testu\n",
        "print(\"\\nPirmos sekos maksimumo testas:\")\n",
        "maks_testas(seka = seka_X, alpha = 0.05, k = 4)\n",
        "print(\"\\nAntros sekos maksimumo testas:\")\n",
        "maks_testas(seka = seka_Y, alpha = 0.05, k = 3)\n",
        "print(\"\\n\\n\")\n"
      ],
      "metadata": {
        "id": "rh20nkClxWxw",
        "colab": {
          "base_uri": "https://localhost:8080/"
        },
        "outputId": "94f58408-b885-4b18-ed83-189ce4113aca"
      },
      "execution_count": null,
      "outputs": [
        {
          "output_type": "stream",
          "name": "stdout",
          "text": [
            "\n",
            "Pirmos sekos maksimumo testas:\n",
            "D = 0.043383955675857525\n",
            "Kolmogorovo-Smirnovo kriterijaus kritinė reikšmė = 0.09332749913412872\n",
            "Gauta Kolmogorovo-Smirnovo kriterijaus reikšmė mažesnė uz kritinę: 0.043383955675857525 <= 0.09332749913412872\n",
            "\n",
            "Antros sekos maksimumo testas:\n",
            "D = 0.1326558052469093\n",
            "Kolmogorovo-Smirnovo kriterijaus kritinė reikšmė = 0.07901720866707863\n",
            "Gauta Kolmogorovo-Smirnovo kriterijaus reikšmė nemažesnė uz kritinę: 0.1326558052469093 > 0.07901720866707863\n",
            "\n",
            "\n",
            "\n"
          ]
        }
      ]
    },
    {
      "cell_type": "markdown",
      "source": [
        "Kadangi pirmos sekos Kolmogorovo-Smirnovo kriterijaus reikšmė buvo mažesnė už Komogorovo-smirnovo kriterijaus kritinę reikšmę,\n",
        "galime laikyti kad pirma seka pasižymi atsitiktinės sekos savybėmis.\n",
        "\n",
        "Kadangi antros sekos Kolmogorovo-Smirnovo kriterijaus reikšmė buvo didesnė už Komogorovo-smirnovo kriterijaus kritinę reikšmę,\n",
        "galime laikyti kad antra seka nepasižymi atsitiktinės sekos savybėmis.\n",
        "\n",
        "Galime teigti, kad pirma seka yra geresnė už antrą.\n",
        "\n",
        "Vizualiam supratimui apie sugeneruotas sekas sukursime linijinės, bei taškinės\n",
        "[diagramas](https://drive.google.com/file/d/1Vmv6JgHYFMkVp9ptR8mkFWh8V2TW8f4s/view?usp=share_link)\n",
        "\n",
        "Žvelgiant į linijinį pirmos sekos grafiką, seka atrodo panaši į atsitiktinę, bet pridėjus taškinė aiškiai matosi, kad skaičius generavo deterministinis algoritmas.\n",
        "\n",
        "Antra seka ant tiek ne atsitiktinė kad ir linijinėje ir taškinėje diagramoje tai galima įžvelgti, o pirmos ir antros sekos grafiku palyginimai patvirtina mūsų išvada apie pirmos sekos geresnes savybes.\n",
        "\n",
        "Aišku kad pasiskirstymai tokių sekų bus absoliučiai tolygus, kadangi sekoje nėra pasikartojančių reikšmių, kitų atvejų, algoritmas užsiciklintų.\n",
        "\n",
        "Visi likusi uždaviniai padaryti su pirma seka."
      ],
      "metadata": {
        "id": "PYwB6mV1suEp"
      }
    },
    {
      "cell_type": "code",
      "source": [
        "\n",
        "# 3 uzd -------------------------------------------------------------------------------\n",
        "\n",
        "#Sumodeliuoti a.d. pasisikirsčiusi pagal N(1,3)\n",
        "normalus = normal(seka_X)\n",
        "with open('normal.csv', 'w', newline = '') as file:\n",
        "    csv.writer(file).writerow(normalus)\n",
        "\n",
        "normalaus_pradzia = get(normalus, 10)   #ištraukiam pirmus 10 sekos elementus\n",
        "print(f\"Normalaus pasiskirstymo p.a.s. pirmi 10 nariai: \\n{normalaus_pradzia}...\\n\")\n",
        "\n"
      ],
      "metadata": {
        "colab": {
          "base_uri": "https://localhost:8080/"
        },
        "id": "0f8pKFznqH1T",
        "outputId": "433b043f-5ea3-4bd8-a19f-5f37e13a1239"
      },
      "execution_count": null,
      "outputs": [
        {
          "output_type": "stream",
          "name": "stdout",
          "text": [
            "Normalaus pasiskirstymo p.a.s. pirmi 10 nariai: \n",
            "-4.258257332158062, -0.38871382746611416, 0.3750072637305645, -0.4919284529774641, 0.8568594285499331, 3.51568289789592, 0.21639248845712344, 0.6090790387406055, 3.5929920568801537, 1.636132768058989...\n",
            "\n"
          ]
        }
      ]
    },
    {
      "cell_type": "code",
      "source": [
        "#norint atspausdinti visa seka\n",
        "print(f'Normalaus pasiskirstymo p.a.s. : \\n{normalus}\\n')"
      ],
      "metadata": {
        "colab": {
          "base_uri": "https://localhost:8080/"
        },
        "id": "BLWHTxiyybKw",
        "outputId": "2f997513-b623-4550-bcb0-9cf5692900f2"
      },
      "execution_count": null,
      "outputs": [
        {
          "output_type": "stream",
          "name": "stdout",
          "text": [
            "Normalaus pasiskirstymo p.a.s. : \n",
            "[-4.258257332158062, -0.38871382746611416, 0.3750072637305645, -0.4919284529774641, 0.8568594285499331, 3.51568289789592, 0.21639248845712344, 0.6090790387406055, 3.5929920568801537, 1.636132768058989, 0.05085185875546672, 1.5586817721480686, 0.5608308730822157, 0.380567442088104, -0.12390116416065844, 2.741999822243816, 2.9150148192584773, -1.4716007790969603, -0.3109583529825133, -1.6931572541309334, 0.2508975971741678, 2.4104078674515703, -0.5147389200111838, -0.028973393608696885, 2.4470652575508907, 1.0389827515855616, -0.7419998222438162, 0.9662163345641575, -0.08553930519551534, -0.30402124045286194, -1.004027985317499, 1.9491481412445333, 2.0665577771067416, 3.710752539988121, -1.3222421227372232, 3.486116493127443, -0.46937369543413743, 1.7035548628089296, -1.746806240144283, -0.8583745444582629, 1.73196246819044, 0.44680542912596166, -2.462965028604689, 0.36944055102388573, -0.9441169021842069, -1.309496890465307, 4.90996104236059, 1.3217684977257358, 1.423049301628838, 2.4995030520316996, 3.9259247008969713, 2.3959208340291207, -1.6419716304060512, 1.1014276253183166, 3.4430783793456246, -3.2390359165527096, 1.1274884649160097, -0.22233838709862996, 3.098666400881732, -0.3179165624225695, 5.486324012121653, 3.9478619543019473, 2.8216914244077644, 0.736325050807192, 0.8359691299653762, 1.772071630247837, 2.584806228703547, 1.6922455462578658, 3.530744706090414, 0.512230097710153, 2.3743714087497216, 2.9638268082714916, 0.5392765823984478, -1.165405868318063, 2.1825059596139353, -1.3351141791946768, 2.8770320360398394, 2.5927517223619954, 2.0041854191797404, 0.11684368136057177, 0.2279283697521629, 1.1640308700346238, 1.8359642750958578, 1.0910113065631775, 2.4176884784652923, -0.14328999778556195, 1.6753371441496197, 2.0982664823998873, -0.11105334899674246, 4.2580505456303115, 1.5203875911966995, 3.904446563453373, 2.0414467603851785, 1.8418285445192994, 1.369579663869309, -0.6493379306593745, -0.49950305203169965, 0.5769506983711621, 1.2216253491271671, 0.5013777305429112, 1.7092208725437703, -1.0349013908481401, 1.0753942624262907, 1.449937337123027, -0.9837939943119967, 2.6908576392238865, 0.9298096207134248, 2.576893916189219, 1.4016144444995604, 1.2268733742936968, 0.7836204875413674, -2.1165456900043096, -1.710752539988122, -0.06655777710674182, 0.6357464657776213, -0.15629590305027152, 1.1066374099644862, 4.732217041898192, 0.48506146781692305, 0.8620782065213389, 5.056310319055716, 1.9129872998195891, 0.3302844820146782, 1.8301096312600937, 0.8150522657081835, 0.641069026127721, 0.16989036873990615, 3.2235806829146565, 3.471600779096961, -0.915014819258477, 0.0019792801928565362, -1.0558476721515473, 0.5176489231323758, 2.794705795315325, -0.17592822244868755, 0.25661905069729996, 2.8399299550900805, 1.2900383083218587, -0.36723543961851246, 1.216379512458633, 0.20482148107684672, 0.008131323518678069, -0.576893916189219, 2.2560326574515037, 2.3887138274661153, 6.258257332158051, -0.8126473799120861, 4.632468522967134, -0.13681121859210754, 1.985729160915847, -1.087842081138318, -0.46191063055278425, 2.016553306409949, 0.7046807151571096, -1.4290619916573455, 0.630420336130691, -0.530092821686255, -0.8036524266513541, -1.904446563453372, 1.5806883289358558, 1.6866020808682605, 2.9054332757275345, -2.8461290551508034, 2.7769545080135076, -1.0245388400968034, 1.3536119289624162, 4.50227810134695, -1.6254114946212574, 1.3802428477146138, 0.0810140020579746, 3.7652879247624775, -0.004185419179740135, -1.7840895723189525, -2.787127569316671, 3.335114179194677, 0.9870081075770877, 1.0858046800729064, 2.0602591331993096, 3.0142481541031194, 1.9734872069497835, 4.787127569316671, 0.7678763632122189, 2.7506717353978107, 3.5460001105952585, 0.7941057899814754, -0.6992785515063247, 2.5224009278031487, -0.8216914244077647, 3.4152026899900694, 3.0245388400968034, 2.3179165624225693, 0.39166848125339426, 0.4959440663434638, 1.4176844606148837, 2.130348329535906, 1.342984171241986, 2.803652426651354, 0.1522974622352059, 1.955215106899828, 2.4249942163603047, 0.1815711679869576, -2.2891244463840494, 1.789388579358313, -2.909961042360593, 2.360122599858715, 2.1368112185921078, 1.6305594489761144, -0.29020936024714405, -0.16282337279509074, 0.8307425229051999, 1.4769370758501719, 0.757368930178517, 1.9918686764813218, -0.6007308444567694, 1.3270675677307653, 1.7148945567055938, -0.5611670869242111, 3.1540600257081866, 1.1797158616383088, 3.004027985317499, 1.6641010177333426, 1.4823510768676242, 1.0337836654358425, -1.284374410615286, -1.0664342977902672, 0.22216477495167264, 0.8881516601687283, 0.14051990663883496, 1.358930973872279, -1.9702820617759986, 0.741589771226817, 1.1118483398312717, -1.862781218565332, 2.2156551292130064, 0.5930329115776483, 2.1239011641606584, 1.0649873187141286, 0.8933625900355138, 0.4413182278519314, 3.9932106927784408, 4.586792672551245, -0.5071064189803121, 0.28510544329440635, -0.6167918061626514, 0.7731266257063032, 3.2968753311564414, 0.1227781340141102, 0.5230629241498281, 3.361251992214657, 1.5477130125125627, -0.0477037678110408, 1.4715278389021234, 0.47415809285802246, 0.2907791274562297, -0.2290399074304419, 2.608744050842372, 2.768148398675116, -1.7286317735913626, -0.42499421636030466, -2.016675666108896, 0.15817145548070044, 2.29710498749885, -0.6411471489936522, -0.13034832953590603, 2.3318972391196406, 0.9558176140246708, -0.8864428508907425, 0.88293953870527, -0.18910081376762022, -0.41768847846529256, -1.17684526394597, 1.853586354004072, 1.9673845189352375, 3.457256393991341, -1.5460001105952585, 3.2719912058749356, -0.5927517223619954, 1.6138788424001274, -2.090604585817751, -1.0142481541031194, 1.6417127660767483, 0.35828723392325157, -3.655236817693865, 0.2794240037963589, -1.109573194669939, -1.530744706090414, 4.227990475440695, 1.2373761855872327, 1.3376753519106834, 2.3815307792660034, 3.6254114946212574, 2.2833341282147734, -1.9478619543019473, 1.0181892409340887, 3.2355202132314225, 4.846129055150804, 1.0441823859753292, -0.33189723911963953, 2.9343555891629505, -0.4323253852415103, 4.425357984821767, 3.64197163040605, 2.6824764615421426, 0.6517036541219741, 0.7521116612250165, 1.68096597273955, 2.4619106305527843, 1.6027905164719427, 3.309496890465307, 0.4248221063769583, 2.262828548016982, 2.812647379912085, 0.45228698748743734, -1.3612519922146569, 2.079197714966176, -1.5614553680641157, 2.7333713064736473, 2.4693736954341374, 1.9069995819258223, 0.02039795376505582, 0.13461614307236747, 1.0805990140348385, 1.7433809493027004, 1.007794864652422, 2.3040212404528617, -0.2492560581817116, 1.5862047405902244, 1.9980207198071436, -0.215655129213006, 3.862781218565332, 1.433791577528006, 3.6090876564907557, 1.943092843547665, 1.7491024028258326, 1.2847601676298501, -0.7858067340684953, -0.6248745840854537, 0.49050533281910624, 1.137921793478661, 0.4137952594097756, 1.619432557911896, -1.211745742619577, 0.9922051353475785, 1.3642535342223787, -1.1540600257081866, 2.561167086924211, 0.8464174107379986, 2.4544745947084428, 1.3164725727046156, 1.1431405714500669, 0.6993968517795139, -2.680818194739723, -2.0407071997649826, -0.16936742010654093, 0.550062662876973, -0.26282854801698163, 1.0233869556240287, 4.1432046932884665, 0.3972094835280572, 0.7783746508728328, 4.289124446384049, 1.8184288320130433, 0.23942983884345248, 1.7376676658735843, 0.7310577469114814, 0.5554489725567116, 0.07500421203745988, 3.0453371926671644, 3.2597228997551797, -1.0770985816484466, -0.09826648239988733, -1.2355202132314225, 0.43032663293469675, 2.6575657248159827, -0.28333412821477344, 0.1640357249041423, 2.6992785515063247, 1.2058942100185246, -0.48438226196521583, 1.13270444023493, 0.11089879014168402, -0.09189551012164765, -0.7077397771182778, 2.149784835692791, 2.2764790642398625, 4.543481685763103, -0.9638268082714929, 4.090604585817752, -0.24249853867159787, 1.889101209858316, -1.2719912058749356, -0.5848062287035469, 1.9189859979420252, 0.6197571522853862, -1.6758352766943942, 0.5446718857090443, -0.6575657248159827, -0.9539402707505424, -2.3212936999905023, 1.4931936128045034, 1.5972557655972712, 2.7593877035037515, 5.239035916552705, 2.6411471489936518, -1.200013033254911, 1.2689422530885175, 4.0166756661088945, -1.9259247008969718, 1.2953192848428903, -0.016553306409949675, 3.500808722876549, -0.10465237655131521, -2.143204693288467, 5.351638917757732, 3.142805739863105, 0.9037810604067923, 1.00259811220986, 1.9612938594071134, 2.858374544458263, 1.8772218659858897, 4.170629158973879, 0.6835274272953844, 2.6167918061626514, 3.322242122737223, 0.7099616916781405, -0.8399299550900803, 2.403152084112265, -0.9737776580361062, 3.211745742619577, 2.8676762367651643, 2.208989936372865, 0.3021035527512632, 0.4082728033632411, 1.332369834969899, 2.028973393608697, 1.258410228773183, 2.665831054059811, 0.05690715645233424, 1.859480093361165, 2.3109583529825133, 0.08701270018041163, -3.056310319055716, 1.6978964472487377, 5.14192356136476, 2.249256058181712, 2.0352033486069123, 1.5422370316952274, -0.40315208411226533, -0.26964394441411366, 0.7468519581093778, 1.3909209612593945, 0.6729324322692356, 1.8950566458101892, -0.7333713064736467, 1.242631069821483, 1.6249927362694354, -0.6908576392238863, 2.9837939943119967, 1.096218939593207, 2.8491260724082603, 1.5751778936230418, 1.3962657540020436, 0.9506173857883135, -1.5008087228765499, -1.2475667757515758, 0.12870225322193074, 0.804582920824578, 0.044784893100171974, 1.2742121905717367, -2.4253579848217672, 0.6570158287580139, 1.0285850819589206, -2.2580505456303124, 2.1110533489967427, 0.5068063871954966, 2.0227567581140113, 0.9818107590659114, 0.8098185424905209, 0.3527004838722051, 3.675835276694395, 4.06533819845478, -0.6329928675451926, 0.1932146209011384, -0.7506717353978114, 0.6888202593693851, 3.109573194669939, 0.026512793050216366, 0.43582531786667944, 3.165405868318063, 1.4607234176015522, -0.14978483569279089, 1.3855800108736163, 0.38612115759987264, 0.19902257851988403, -0.33892019901940906, 2.484382261965216, 2.632992867545193, -2.065338198454779, -0.5455678192988473, -2.502278101346952, 0.06295090383008317, 2.1891008137676202, -0.7769545080135078, -0.23575989032558398, 2.22233838709863, 0.8725115350839903, -1.0453371926671653, 0.7993453527008949, -0.29710498749885006, -0.537814987807018, -1.3745246941355869, 1.7605701611565476, 1.8712977467780685, 3.247566775751576, -1.8227079405633235, 3.0878420811383163, -0.7247855446380924, 1.5258419071419775, -2.632468522967133, -1.1883802750412098, 1.5531945708740382, 0.26803753180956014, 4.680818194739721, 0.18739751531104776, -1.2968753311564414, -1.8032247538713637, 3.8425545860368238, 1.1535825892620015, 1.2531480418906222, 2.2696439444141134, 3.387938125552804, 2.1759282224486878, -2.3892986956353592, 0.9350126812858714, 3.0558476721515473, 4.1988716521828735, 0.9610172484144385, -0.44706525755088955, 2.7858067340684953, -0.5533517164578496, 3.9702820617759995, 3.4014961244631996, 2.5533517164578496, 0.5662084224719941, 0.667630165030101, 1.591727196636759, 2.345965241270812, 1.514938532183077, 3.120564167526831, 0.3358989822666574, 2.1562959030502715, 2.6741344515972383, 0.363867231941011, -1.5929920568801532, 1.9796020462349442, -1.8425545860368246, 2.60073084445677, 2.3530326216491204, 1.8126024846889521, -0.07919771496617578, 0.038706140592886684, 0.9974018877901402, 1.652893091858436, 0.924605737573709, 2.1957129694936555, -0.36012259985871475, 1.4986222694570894, 1.901022733727693, -0.324896109642161, 3.5771170485126946, 1.348296345878026, 3.3745246941355878, 1.847702537764794, 1.658493567471211, 1.200654647299105, -0.9343555891629503, -0.7593877035037513, 0.4027442344027288, 1.0545834819432756, 0.32466285585038035, 1.5313015433317168, -1.4152026899900694, 0.9089886934368232, 1.2794848119298599, -1.3481163342716145, 2.439682294224405, 0.7626238144127673, 2.338920199019409, 1.2321236367877813, 1.0597850348636555, 0.6144199891263837, 5.65523681769387, -2.5434816857631026, -0.27647906423986246, 0.4632334365226213, -0.37437140874972163, 0.9402149651363444, 3.7840895723189525, 0.30775445374213406, 0.6941100503235481, 3.88340554432307, 1.7262652726141219, 0.146413645995928, 1.647299516127795, 0.6463880710375833, 0.46869845666828325, -0.022756758114011344, 2.8864428508907416, 3.0770985816484466, -1.2597228997551797, -0.20234261384127095, -1.4430783793456246, 0.3415064325287891, 2.5300928216862557, -0.3959208340291216, 0.06898321729437751, 2.5690143458693706, 1.1222738208103507, -0.608744050842372, 1.0493826142116864, 0.014270839084152942, -0.19571296949365546, -0.8491260724082603, 2.047703767811041, 2.1693674201065405, 4.040707199764983, -1.131641077882338, 3.746806240144283, -0.35303262164912064, 1.7951785189231533, -1.486116493127442, -0.7162419069959884, 1.8242645157003052, 0.5338766939650514, -1.9932106927784403, 0.4577629683047727, -0.7947057953153254, -1.1205641675268305, -3.1419235613647576, 1.4069670884223517, 1.5094946671808938, 2.6248745840854544, 4.354650316426653, 2.514738920011183, -1.4014961244631996, 1.1849477342918167, 3.693157254130932, -2.3546503164266537, 1.2111358156034415, -0.1174695580914431, 3.284374410615286, -0.2089899363728649, -2.7322170418981937, 4.389298695635358, 2.973777658036106, 0.8202841383616909, 0.9194009859651614, 1.8653838569276338, 2.7162419069959887, 1.7836075115428764, 3.8032247538713637, 0.5983855555004396, 2.491928452977464, 3.1316410778823394, 0.625090583084275, -0.9938770234957339, 2.290209360247144, -1.1428057398631064, 3.03490139084814, 2.7247855446380926, 2.104652376551315, 0.21061142064168692, 0.3190340272604495, 1.2478883387749824, 1.9310167827056226, 1.174485791786972, 2.5378149878070184, -0.041446760385178694, 1.766316638303962, 2.202342613841271, -0.010362904320395216, 4.979589350181481, 1.6083315187466065, 4.321293699990503, 2.1432899977855615, 1.9370490961699172, 1.4553281142909555, -0.5224009278031487, -0.38153077926600343, 0.6623246480893166, 1.3058899496764518, 0.5876762582821992, 1.8009774214801157, -0.8770320360398394, 1.1588059231919794, 1.5367665634773786, -0.8307853474815161, 2.830785347481516, 1.012991892422911, 2.707739777118277, 1.487769902289847, 1.311179740630615, 0.8672955597650703, -1.7652879247624784, -1.4572563939913423, 0.03261548106476264, 0.7205151880701401, -0.05397451137104281, 1.1901814575094791, -3.4863240121216528, 0.5715816784341159, 0.9454165180567244, -2.979589350181482, 2.0103629043203957, 0.41931167106414424, 1.9249957879625401, 0.8985723746816834, 0.7257878094282633, 0.26233233412641555, 3.429061991657347, 3.7286317735913626, -0.7681483986751161, 0.09897726627230696, -0.8959096125660184, 0.6037342459979566, 2.9441169021842066, -0.07287058861084117, 0.34710690814156453, 2.9938770234957337, 1.374909416915725, -0.2560326574515037, 1.300603148220486, 0.29644513719107046, 0.10494335418981038, -0.45447459470844365, 2.3672354396185122, 2.507106418980312, -2.586792672551245, -0.6741344515972385, -3.8850547592016875, -0.03520334860691143, 2.0855393051955162, -0.9246552471063076, -0.34596524127081185, 2.1174695580914427, 0.7888641843965584, -1.2235806829146565, 0.7152398323701499, -0.4104078674515701, -0.6658310540598107, -1.6090876564907557, 1.6697155179853218, 1.777835225048327, 3.066434297790267, -2.198871652182872, 2.9246552471063074, -0.867676236765164, 1.439169126917784, 5.885054759201675, -1.3879381255528043, 1.4661233060349486, 0.17573548429969477, 4.116545690004308, 0.0930004180741777, -1.5156828978959198, -2.1706291589738793, 3.5614553680641157, 1.070190379286576, 1.1692574770948, 2.162823372795091, 3.18838027504121, 2.072870588610841, -3.351638917757735, 0.8516391789536638, 2.895909612566018, 3.822707940563324, 0.8777261791896493, -0.5690143458693706, 2.6493379306593745, -0.6824764615421426, 3.6587765653425413, 3.200013033254911, 2.4323253852415103, 0.4796124088033009, 0.5823155393851163, 1.5040559336565362, 2.2357598903255838, 1.428418321565884, 2.953940270750542, 0.24516788848915216, 2.0539745113710426, 2.5455678192988476, 0.27373472738587734, -1.883405544323069, 1.8831563186394282, -2.2279904754406963, 2.47686412532724, 2.242498538671598, 1.7205759962036415, -0.18250595961393534, -0.0602591331993092, 0.9141953199270936, 1.564174682133321, 0.8411940768080206, 2.091895510121647, -0.4768641253272401, 1.4123237417178007, 1.8067853790988617, -0.43968229422440497, 3.3481163342716145, 1.2636749491928088, 3.17684526394597, 1.7548321115108478, 1.5696733670653034, 1.1170604612947297, -1.0986664008817328, -0.9054332757275345, 0.31339791913173953, 0.9714149180410794, 0.2336833616960381, 1.4445510274432884, -1.6587765653425413, 0.8255142082130283, 1.195417079175422, -1.5771170485126946, 2.324896109642161, 0.6782315022742643, 2.2290399074304412, 1.1483608210463363, 0.9766130443759713, 0.5284721610978765, 4.46296502860469]\n",
            "\n"
          ]
        }
      ]
    },
    {
      "cell_type": "markdown",
      "source": [
        "\n",
        "[Normalaus a.d. sekos vizualizavimas]( https://drive.google.com/file/d/1MYSfERGRfMzTn4OPPZJVJXHXQJi1LjVh/view?usp=share_link)"
      ],
      "metadata": {
        "id": "5zCUNXqg5MLW"
      }
    },
    {
      "cell_type": "code",
      "source": [
        "#Sumodeliuoti a.d. pasisikirsciusi pagal norima skirstini\n",
        "\n",
        "eksponentinis = eksp(seka_X, 2)\n",
        "with open('eksp.csv', 'w', newline = '') as file:\n",
        "    csv.writer(file).writerow(eksponentinis)\n",
        "eksp_pradzia = get(eksponentinis, 10)    #ištraukiam pirmus 10 sekos elementus\n",
        "\n",
        "print(f\"Eksponentinio pasiskirstymo p.a.s. pirmi 10 nariai: \\n{eksp_pradzia}...\\n\\n\")\n"
      ],
      "metadata": {
        "id": "mJJV_zBkyWoQ",
        "outputId": "01832a6c-751c-45fa-dacf-90dc9b145717",
        "colab": {
          "base_uri": "https://localhost:8080/"
        }
      },
      "execution_count": null,
      "outputs": [
        {
          "output_type": "stream",
          "name": "stdout",
          "text": [
            "Eksponentinio pasiskirstymo p.a.s. pirmi 10 nariai: \n",
            "0.0024024026912682506, 0.4746992473644642, 0.8892756064132957, 0.4325290103903218, 1.2584181594692359, 5.2283195559870626, 0.7870635845463032, 1.0571790287446445, 5.399363902863388, 2.0626030067282857...\n",
            "\n",
            "\n"
          ]
        }
      ]
    },
    {
      "cell_type": "code",
      "source": [
        "#norint atspausdinti visą seką\n",
        "print(f'Eksponentinio pasiskirstymo p.a.s. : \\n{eksponentinis}\\n')"
      ],
      "metadata": {
        "id": "PSYEBeTZyzCY"
      },
      "execution_count": null,
      "outputs": []
    },
    {
      "cell_type": "markdown",
      "source": [
        "[Eksponentinio a.d. sekos vizualizavimas](https://drive.google.com/file/d/1VDDrAOQRrS_GAEqQbCna6nSB3BkYrsOY/view?usp=share_link)\n"
      ],
      "metadata": {
        "id": "EXzdV_3x5uZW"
      }
    },
    {
      "cell_type": "code",
      "source": [
        "# 4 uzd --------------------------------------------------------------------------------\n",
        "#Naudodami sugeneruotą geresniąją pseudoatsitiktinių skaičių seką ir parinkdami tankį (U(0,4) ir kitą savo nuožiurą) suskaičiuoti integralą:\n",
        "#I(0,4)(x**2*exp(x)*dx)\n",
        "g = lambda x: x**2 * math.exp(x)  # sukuriame pointegraline funkcija g(x)\n",
        "\n",
        "I_tolygus, I_su_pitonu = integralas_tolygus(g = g, seka = seka_X, apat_r = 0, virs_r = 4)\n",
        "I_su_laipsniuotu_tankiu, I_su_pitonu = integralas_su_laipsniuotu_tankiu(g = g, apat_r = 0, virs_r = 4, seka = seka_X,laipsnis = 3.855)\n",
        "\n",
        "print(f\"Integralas suskaiciuotas: \\n\\\n",
        "Monte Karlo metodas su tolygiu a.d.:   {I_tolygus} \\n\\\n",
        "Monte Karlo metodas su a.d. turinčiu c*x^n pavidalo tankio funkciją:  {I_su_laipsniuotu_tankiu}\\n\\\n",
        "Naudojant python'o scipy.integrate funkcija: {I_su_pitonu}\\n\\n\")\n"
      ],
      "metadata": {
        "colab": {
          "base_uri": "https://localhost:8080/"
        },
        "id": "e12rFhpwqH_A",
        "outputId": "9089ebd7-4a06-4fd2-9b4d-e74d71f2c699"
      },
      "execution_count": null,
      "outputs": [
        {
          "output_type": "stream",
          "name": "stdout",
          "text": [
            "Integralas suskaiciuotas: \n",
            "Monte Karlo metodas su tolygiu a.d.:   542.9312220235715 \n",
            "Monte Karlo metodas su a.d. turinčiu c*x^n pavidalo tankio funkciją:  543.9814295980838\n",
            "Naudojant python'o scipy.integrate funkcija: 543.9815003314424\n",
            "\n",
            "\n"
          ]
        }
      ]
    },
    {
      "cell_type": "markdown",
      "source": [
        "Funkcija:\n",
        "\n",
        "```\n",
        "integralas_tolygus(g,seka,apat_r, virs_r)\n",
        "```\n",
        "suskaičiuoja duotą integralą naudojant tolygų a.d. intervale (apat_r,virs_r).\n",
        "A.d. sukonstruojamas iš tolygaus a.d. U intervale (0,1), tokiu būdu:\n",
        "(virs_r - apat_r) * U + apat_r\n",
        "\n",
        "Funkcija:\n",
        "\n",
        "```\n",
        "integralas_su_laipsniuotu_tankiu(g, apat_r, virs_r, seka, laipsnis)\n",
        "```\n",
        "leidžia pasirinkti tankio funkcijos f(x) = сx<sup>n</sup> n laipsnį, pagal\n",
        "kurį nustatomą normalizuojanti konstanta c. Skaičiavimai yra atlikti nenaudojant python'o integravimo funkcijos, o taikant laipsninių funkcijų integravimo taisyklės.\n",
        "Pažaidžius su integralas_su_laipsniuotu_tankiu funkcija radau, kad su n = 3.855\n",
        "monte karlo algoritmo atsakymas skiriasi nuo python'o integravimo -7.073335859786312e-05. Todėl galime padaryti išvada, jog gerai parinkus tankio funkciją galime gauti didėlio tikslumo atsakymą."
      ],
      "metadata": {
        "id": "Yi3TQzzrwA3D"
      }
    },
    {
      "cell_type": "code",
      "source": [
        "# 5 uzd --------------------------------------------------------------------------\n",
        "#Duotas stacionarus skirstinys\n",
        "pi = (1/8, 2/8, 2/8, 3/8)\n",
        "\n",
        "#iš apgrežiamumo salygos gauname viena iš galimų matricų\n",
        "\n",
        "P = [[0.1, 0.2, 0.4, 0.3],\n",
        "     [0.1, 0.5, 0.1, 0.3],\n",
        "     [0.2, 0.1, 0.4, 0.3],\n",
        "     [0.1, 0.2, 0.2, 0.5]]\n",
        "markovo_grandine = generuojam_MG(pi = pi, P = P, seka = seka_X)\n",
        "print(\"Perėjimo tikimybių matrica:\",*P, sep = \"\\n\", end = \"\\n\\n\")\n",
        "print(\"Stacionarusis skirstinys: pi = \", pi, \"\\n\")\n",
        "print(\"Sugeneruota markovo grandine (būsenų sarašas):\")\n",
        "\n",
        "#markovo grandinės būsenų sarašo išvedimas:\n",
        "for i in range(len(markovo_grandine)//32):\n",
        "    print(*markovo_grandine[(32*i):(32*i+32)],sep = \" -> \")\n",
        "\n",
        "with open('MG.csv', 'w', newline = '') as file:\n",
        "    csv.writer(file).writerow(markovo_grandine)\n",
        "\n"
      ],
      "metadata": {
        "colab": {
          "base_uri": "https://localhost:8080/"
        },
        "id": "h0YY6y-0qIIh",
        "outputId": "b1f49db2-b4b1-464b-e54c-32db73abd868"
      },
      "execution_count": null,
      "outputs": [
        {
          "output_type": "stream",
          "name": "stdout",
          "text": [
            "Perėjimo tikimybių matrica:\n",
            "[0.1, 0.2, 0.4, 0.3]\n",
            "[0.1, 0.5, 0.1, 0.3]\n",
            "[0.2, 0.1, 0.4, 0.3]\n",
            "[0.1, 0.2, 0.2, 0.5]\n",
            "\n",
            "Stacionarusis skirstinys: pi =  (0.125, 0.25, 0.25, 0.375) \n",
            "\n",
            "Sugeneruota markovo grandine (būsenų sarašas):\n",
            "1 -> 2 -> 2 -> 2 -> 2 -> 4 -> 3 -> 3 -> 4 -> 4 -> 2 -> 3 -> 3 -> 3 -> 2 -> 4 -> 4 -> 1 -> 2 -> 1 -> 3 -> 4 -> 2 -> 2 -> 4 -> 4 -> 2 -> 2 -> 2 -> 2 -> 2 -> 4\n",
            "4 -> 4 -> 1 -> 4 -> 2 -> 3 -> 1 -> 2 -> 3 -> 3 -> 1 -> 3 -> 1 -> 1 -> 4 -> 4 -> 4 -> 4 -> 4 -> 4 -> 1 -> 3 -> 4 -> 1 -> 3 -> 2 -> 4 -> 2 -> 4 -> 4 -> 4 -> 3\n",
            "3 -> 3 -> 4 -> 4 -> 4 -> 3 -> 4 -> 4 -> 3 -> 1 -> 4 -> 1 -> 4 -> 4 -> 4 -> 3 -> 3 -> 3 -> 3 -> 3 -> 4 -> 2 -> 3 -> 4 -> 2 -> 4 -> 4 -> 4 -> 4 -> 4 -> 4 -> 2\n",
            "2 -> 2 -> 2 -> 2 -> 3 -> 1 -> 3 -> 3 -> 1 -> 4 -> 3 -> 4 -> 4 -> 4 -> 3 -> 1 -> 1 -> 2 -> 2 -> 2 -> 2 -> 4 -> 3 -> 3 -> 4 -> 4 -> 3 -> 3 -> 3 -> 3 -> 3 -> 4\n",
            "4 -> 2 -> 2 -> 2 -> 2 -> 4 -> 2 -> 2 -> 4 -> 4 -> 2 -> 2 -> 2 -> 2 -> 2 -> 4 -> 4 -> 4 -> 2 -> 4 -> 2 -> 4 -> 2 -> 2 -> 4 -> 3 -> 1 -> 3 -> 1 -> 2 -> 1 -> 3\n",
            "3 -> 4 -> 1 -> 4 -> 2 -> 2 -> 4 -> 1 -> 3 -> 2 -> 4 -> 2 -> 1 -> 1 -> 4 -> 3 -> 3 -> 4 -> 4 -> 4 -> 4 -> 3 -> 4 -> 4 -> 3 -> 1 -> 4 -> 2 -> 4 -> 4 -> 4 -> 3\n",
            "3 -> 3 -> 4 -> 4 -> 4 -> 3 -> 4 -> 4 -> 3 -> 1 -> 3 -> 1 -> 4 -> 4 -> 4 -> 2 -> 2 -> 2 -> 3 -> 3 -> 4 -> 2 -> 2 -> 3 -> 1 -> 4 -> 4 -> 4 -> 4 -> 4 -> 4 -> 1\n",
            "2 -> 2 -> 2 -> 2 -> 2 -> 1 -> 3 -> 3 -> 1 -> 4 -> 3 -> 4 -> 4 -> 3 -> 3 -> 4 -> 4 -> 2 -> 2 -> 2 -> 2 -> 4 -> 3 -> 3 -> 4 -> 4 -> 2 -> 3 -> 3 -> 3 -> 2 -> 4\n",
            "4 -> 1 -> 2 -> 1 -> 3 -> 4 -> 2 -> 2 -> 4 -> 3 -> 1 -> 3 -> 2 -> 2 -> 2 -> 3 -> 4 -> 4 -> 1 -> 4 -> 2 -> 3 -> 1 -> 2 -> 3 -> 3 -> 1 -> 3 -> 1 -> 1 -> 4 -> 4\n",
            "4 -> 4 -> 4 -> 4 -> 1 -> 3 -> 4 -> 4 -> 4 -> 2 -> 4 -> 2 -> 4 -> 4 -> 4 -> 3 -> 3 -> 3 -> 4 -> 4 -> 4 -> 3 -> 4 -> 4 -> 3 -> 1 -> 4 -> 1 -> 4 -> 4 -> 4 -> 2\n",
            "2 -> 2 -> 3 -> 3 -> 4 -> 2 -> 3 -> 4 -> 2 -> 4 -> 4 -> 4 -> 4 -> 4 -> 4 -> 2 -> 2 -> 2 -> 2 -> 2 -> 3 -> 1 -> 3 -> 3 -> 1 -> 4 -> 3 -> 4 -> 4 -> 4 -> 3 -> 1\n",
            "1 -> 2 -> 2 -> 2 -> 2 -> 4 -> 3 -> 3 -> 4 -> 4 -> 3 -> 3 -> 3 -> 3 -> 2 -> 4 -> 4 -> 2 -> 2 -> 1 -> 3 -> 4 -> 2 -> 2 -> 4 -> 4 -> 2 -> 2 -> 2 -> 2 -> 2 -> 4\n",
            "4 -> 4 -> 2 -> 4 -> 2 -> 3 -> 1 -> 2 -> 4 -> 3 -> 1 -> 3 -> 1 -> 2 -> 1 -> 3 -> 3 -> 4 -> 4 -> 4 -> 2 -> 2 -> 4 -> 1 -> 3 -> 2 -> 4 -> 2 -> 1 -> 4 -> 4 -> 3\n",
            "3 -> 4 -> 4 -> 4 -> 4 -> 3 -> 4 -> 4 -> 3 -> 1 -> 4 -> 2 -> 4 -> 4 -> 4 -> 3 -> 3 -> 3 -> 4 -> 4 -> 4 -> 2 -> 3 -> 4 -> 2 -> 1 -> 3 -> 4 -> 4 -> 4 -> 4 -> 2\n",
            "2 -> 2 -> 2 -> 2 -> 3 -> 1 -> 3 -> 3 -> 1 -> 4 -> 4 -> 4 -> 4 -> 4 -> 3 -> 1 -> 1 -> 3 -> 3 -> 2 -> 2 -> 1 -> 3 -> 3 -> 1 -> 4 -> 3 -> 4 -> 3 -> 3 -> 3 -> 4\n",
            "4 -> 2 -> 2 -> 2 -> 2 -> 4 -> 2 -> 2 -> 4 -> 4 -> 2 -> 2 -> 2 -> 2 -> 2 -> 4 -> 4 -> 1 -> 2 -> 1 -> 2 -> 4 -> 2 -> 2 -> 4 -> 3 -> 1 -> 3 -> 2 -> 2 -> 1 -> 3\n",
            "3 -> 4 -> 1 -> 4 -> 2 -> 3 -> 1 -> 2 -> 3 -> 3 -> 4 -> 3 -> 1 -> 1 -> 4 -> 4 -> 4 -> 4 -> 4 -> 4 -> 1 -> 3 -> 4 -> 4 -> 3 -> 2 -> 4 -> 2 -> 4 -> 4 -> 4 -> 3\n",
            "3 -> 3 -> 4 -> 4 -> 4 -> 3 -> 4 -> 4 -> 3 -> 1 -> 4 -> 1 -> 4 -> 4 -> 4 -> 2 -> 2 -> 2 -> 3 -> 3 -> 4 -> 2 -> 3 -> 3 -> 2 -> 4 -> 4 -> 4 -> 4 -> 4 -> 4 -> 2\n",
            "2 -> 2 -> 2 -> 2 -> 3 -> 1 -> 3 -> 3 -> 1 -> 4 -> 3 -> 4 -> 4 -> 4 -> 3 -> 4 -> 1 -> 2 -> 2 -> 2 -> 2 -> 4 -> 3 -> 3 -> 4 -> 4 -> 3 -> 3 -> 3 -> 3 -> 2 -> 4\n",
            "4 -> 1 -> 2 -> 1 -> 3 -> 4 -> 2 -> 2 -> 4 -> 4 -> 2 -> 2 -> 2 -> 2 -> 2 -> 4 -> 4 -> 4 -> 2 -> 4 -> 2 -> 3 -> 1 -> 2 -> 3 -> 3 -> 1 -> 3 -> 1 -> 2 -> 1 -> 3\n",
            "3 -> 4 -> 4 -> 4 -> 1 -> 3 -> 4 -> 1 -> 3 -> 2 -> 4 -> 2 -> 1 -> 4 -> 4 -> 3 -> 3 -> 3 -> 4 -> 4 -> 4 -> 3 -> 4 -> 4 -> 3 -> 1 -> 4 -> 2 -> 4 -> 4 -> 4 -> 3\n",
            "3 -> 3 -> 4 -> 4 -> 4 -> 2 -> 3 -> 4 -> 2 -> 4 -> 4 -> 4 -> 4 -> 4 -> 4 -> 2 -> 2 -> 2 -> 2 -> 2 -> 3 -> 1 -> 3 -> 3 -> 1 -> 4 -> 4 -> 4 -> 4 -> 4 -> 3 -> 1\n",
            "1 -> 2 -> 2 -> 2 -> 2 -> 1 -> 3 -> 3 -> 1 -> 4 -> 3 -> 4 -> 3 -> 3 -> 3 -> 4 -> 4 -> 2 -> 2 -> 2 -> 2 -> 4 -> 2 -> 2 -> 4 -> 4 -> 2 -> 2 -> 2 -> 2 -> 2 -> 4\n",
            "4 -> 1 -> 2 -> 1 -> 2 -> 4 -> 2 -> 2 -> 4 -> 3 -> 1 -> 3 -> 2 -> 2 -> 1 -> 3 -> 3 -> 4 -> 1 -> 4 -> 2 -> 3 -> 4 -> 1 -> 3 -> 3 -> 4 -> 2 -> 1 -> 1 -> 4 -> 4\n",
            "4 -> 4 -> 4 -> 4 -> 1 -> 3 -> 4 -> 4 -> 3 -> 1 -> 4 -> 2 -> 4 -> 4 -> 4 -> 3 -> 3 -> 3 -> 4 -> 4 -> 4 -> 3 -> 4 -> 4 -> 3 -> 1 -> 3 -> 1 -> 4 -> 4 -> 4 -> 2\n",
            "2 -> 2 -> 3 -> 3 -> 4 -> 2 -> 2 -> 3 -> 2 -> 4 -> 4 -> 4 -> 4 -> 4 -> 4 -> 2 -> 2 -> 2 -> 2 -> 2 -> 3 -> 1 -> 3 -> 3 -> 1 -> 4 -> 3 -> 4 -> 4 -> 3 -> 3 -> 4\n"
          ]
        }
      ]
    },
    {
      "cell_type": "markdown",
      "source": [
        "[Gautos markovo grandinės vizualizavimas](https://drive.google.com/file/d/1dW9jmV61Aj4wz8NZ35ecaMzBtdKUUHm-/view?usp=share_link)."
      ],
      "metadata": {
        "id": "WEqxCan855u1"
      }
    }
  ]
}